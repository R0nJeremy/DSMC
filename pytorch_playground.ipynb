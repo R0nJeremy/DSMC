{
 "cells": [
  {
   "cell_type": "code",
   "execution_count": 1,
   "metadata": {},
   "outputs": [],
   "source": [
    "import torch\n",
    "import torch.nn as nn\n",
    "from torch.optim import SGD\n",
    "import numpy as np\n",
    "import matplotlib.pyplot as plt\n",
    "import scienceplots\n",
    "\n",
    "plt.style.use(['science','notebook'])"
   ]
  },
  {
   "cell_type": "markdown",
   "metadata": {},
   "source": [
    "Testing if the `CUDA` compatible GPU device is available"
   ]
  },
  {
   "cell_type": "code",
   "execution_count": 2,
   "metadata": {},
   "outputs": [
    {
     "name": "stdout",
     "output_type": "stream",
     "text": [
      "cuda:0\n"
     ]
    }
   ],
   "source": [
    "if torch.cuda.is_available(): \n",
    "    dev = \"cuda:0\" \n",
    "else: \n",
    "    dev = \"cpu\" \n",
    "device = torch.device(dev) \n",
    "print(device)"
   ]
  },
  {
   "cell_type": "code",
   "execution_count": 3,
   "metadata": {},
   "outputs": [],
   "source": [
    "x = torch.tensor([[6,2],[5,2],[1,3],[7,6]]).float()\n",
    "y = torch.tensor([1,5,2,5]).float()"
   ]
  },
  {
   "cell_type": "code",
   "execution_count": 4,
   "metadata": {},
   "outputs": [
    {
     "data": {
      "text/plain": [
       "Linear(in_features=2, out_features=8, bias=False)"
      ]
     },
     "execution_count": 4,
     "metadata": {},
     "output_type": "execute_result"
    }
   ],
   "source": [
    "M1 = nn.Linear(2,8,bias=False)\n",
    "M1"
   ]
  },
  {
   "cell_type": "code",
   "execution_count": 5,
   "metadata": {},
   "outputs": [
    {
     "data": {
      "text/plain": [
       "tensor([[ 1.8559, -2.9517, -2.3530,  0.1381, -0.8432, -4.2936, -0.1155, -1.2812],\n",
       "        [ 1.3534, -2.6507, -2.1846, -0.0561, -0.5119, -3.6025, -0.2039, -0.9234],\n",
       "        [-1.2365, -2.0198, -2.1823, -1.3467,  1.3855, -0.9119, -0.8811,  0.9410],\n",
       "        [ 0.0398, -5.5444, -5.2066, -1.7222,  1.1145, -5.2790, -1.3197,  0.0927]],\n",
       "       grad_fn=<MmBackward0>)"
      ]
     },
     "execution_count": 5,
     "metadata": {},
     "output_type": "execute_result"
    }
   ],
   "source": [
    "M1(x)"
   ]
  },
  {
   "cell_type": "code",
   "execution_count": 6,
   "metadata": {},
   "outputs": [
    {
     "data": {
      "text/plain": [
       "Linear(in_features=8, out_features=1, bias=False)"
      ]
     },
     "execution_count": 6,
     "metadata": {},
     "output_type": "execute_result"
    }
   ],
   "source": [
    "M2 = nn.Linear(8,1,bias=False)\n",
    "M2"
   ]
  },
  {
   "cell_type": "code",
   "execution_count": 7,
   "metadata": {},
   "outputs": [
    {
     "data": {
      "text/plain": [
       "tensor([1.4166, 1.4281, 2.2165, 4.3758], grad_fn=<SqueezeBackward0>)"
      ]
     },
     "execution_count": 7,
     "metadata": {},
     "output_type": "execute_result"
    }
   ],
   "source": [
    "M2(M1(x)).squeeze()"
   ]
  },
  {
   "cell_type": "code",
   "execution_count": 8,
   "metadata": {},
   "outputs": [],
   "source": [
    "class MyNeuralNetwork(nn.Module):\n",
    "    def __init__(self):\n",
    "        super().__init__()\n",
    "        self.Matrix1 = nn.Linear(2, 16, bias=False)\n",
    "        self.Matrix2 = nn.Linear(16, 8, bias=False)\n",
    "        self.Matrix3 = nn.Linear(8, 1, bias=False)\n",
    "\n",
    "    def forward(self, x):\n",
    "        x_layer1 = self.Matrix1(x)\n",
    "        x_layer2 = self.Matrix2(x_layer1)\n",
    "        x_layer3 = self.Matrix3(x_layer2)\n",
    "        x_forward = x_layer3.squeeze()\n",
    "        return x_forward"
   ]
  },
  {
   "cell_type": "code",
   "execution_count": 9,
   "metadata": {},
   "outputs": [],
   "source": [
    "f = MyNeuralNetwork()"
   ]
  },
  {
   "cell_type": "code",
   "execution_count": 10,
   "metadata": {},
   "outputs": [
    {
     "name": "stdout",
     "output_type": "stream",
     "text": [
      "Parameter containing:\n",
      "tensor([[-0.1558, -0.6079],\n",
      "        [ 0.5316,  0.0657],\n",
      "        [ 0.4633, -0.2690],\n",
      "        [ 0.3595, -0.5159],\n",
      "        [ 0.1943, -0.6449],\n",
      "        [ 0.4143,  0.3771],\n",
      "        [-0.2187,  0.1739],\n",
      "        [ 0.5662,  0.0392],\n",
      "        [ 0.6656, -0.2092],\n",
      "        [-0.1377,  0.6228],\n",
      "        [ 0.5850, -0.6688],\n",
      "        [-0.3561,  0.6218],\n",
      "        [ 0.2558,  0.4359],\n",
      "        [ 0.3878, -0.6514],\n",
      "        [ 0.5377, -0.1441],\n",
      "        [ 0.5279, -0.0258]], requires_grad=True)\n",
      "Parameter containing:\n",
      "tensor([[ 0.2465, -0.0083, -0.1195, -0.1027, -0.0807, -0.2109,  0.1108, -0.2181,\n",
      "         -0.1823,  0.1603, -0.0208,  0.0244,  0.0278,  0.0586,  0.0702,  0.2057],\n",
      "        [ 0.1119, -0.1691, -0.1604, -0.0228,  0.0899, -0.1128, -0.1337, -0.1547,\n",
      "          0.1360,  0.1362,  0.1786, -0.1623, -0.1536,  0.2056,  0.0146,  0.1928],\n",
      "        [-0.1752, -0.1441,  0.0661,  0.0122,  0.2403,  0.0449,  0.0519, -0.0551,\n",
      "          0.2204,  0.0340,  0.1393, -0.1763,  0.0018, -0.1458,  0.1394, -0.0737],\n",
      "        [ 0.1955,  0.1757, -0.0660, -0.1927, -0.0990,  0.0353,  0.2115, -0.0406,\n",
      "         -0.1207, -0.1968,  0.1714,  0.2479, -0.2093, -0.1855,  0.1008,  0.0463],\n",
      "        [ 0.1451,  0.2140, -0.1845, -0.0425, -0.1690, -0.0844, -0.1495, -0.1446,\n",
      "         -0.2291,  0.0375, -0.2478, -0.1650,  0.2295, -0.1994,  0.1391, -0.0087],\n",
      "        [-0.2438, -0.1892, -0.1400,  0.2420,  0.0078,  0.0448,  0.1374,  0.0787,\n",
      "         -0.0752, -0.2335, -0.1058, -0.0170, -0.1345,  0.1330,  0.2286, -0.1195],\n",
      "        [ 0.2350, -0.2452,  0.0575,  0.0368,  0.1011, -0.0568,  0.1525, -0.2495,\n",
      "          0.1055, -0.0250,  0.1721, -0.1367,  0.0473,  0.1140,  0.2030,  0.0239],\n",
      "        [-0.1755, -0.1042, -0.0266, -0.1395,  0.1810,  0.1661, -0.1996,  0.1313,\n",
      "          0.1966,  0.2329, -0.0053, -0.1101,  0.1059,  0.0742,  0.0056,  0.1386]],\n",
      "       requires_grad=True)\n",
      "Parameter containing:\n",
      "tensor([[-0.2201, -0.1413, -0.0159, -0.0630,  0.0934,  0.2497, -0.0673, -0.1344]],\n",
      "       requires_grad=True)\n"
     ]
    }
   ],
   "source": [
    "for par in f.parameters():\n",
    "    print(par)"
   ]
  },
  {
   "cell_type": "code",
   "execution_count": 11,
   "metadata": {},
   "outputs": [
    {
     "data": {
      "text/plain": [
       "tensor([0.0745, 0.0895, 0.2318, 0.3886], grad_fn=<SqueezeBackward0>)"
      ]
     },
     "execution_count": 11,
     "metadata": {},
     "output_type": "execute_result"
    }
   ],
   "source": [
    "y_hat = f(x)\n",
    "y_hat"
   ]
  },
  {
   "cell_type": "code",
   "execution_count": 12,
   "metadata": {},
   "outputs": [
    {
     "data": {
      "text/plain": [
       "tensor(12.3403, grad_fn=<MseLossBackward0>)"
      ]
     },
     "execution_count": 12,
     "metadata": {},
     "output_type": "execute_result"
    }
   ],
   "source": [
    "L = nn.MSELoss()\n",
    "L(y, y_hat)"
   ]
  },
  {
   "cell_type": "code",
   "execution_count": 13,
   "metadata": {},
   "outputs": [
    {
     "data": {
      "text/plain": [
       "tensor(12.3403, grad_fn=<MeanBackward0>)"
      ]
     },
     "execution_count": 13,
     "metadata": {},
     "output_type": "execute_result"
    }
   ],
   "source": [
    "torch.mean((y-y_hat)**2)"
   ]
  },
  {
   "cell_type": "code",
   "execution_count": 14,
   "metadata": {},
   "outputs": [],
   "source": [
    "optimizer = SGD(f.parameters(), lr=0.001)"
   ]
  },
  {
   "cell_type": "code",
   "execution_count": 15,
   "metadata": {},
   "outputs": [],
   "source": [
    "losses = []\n",
    "for _ in range(1000):\n",
    "    optimizer.zero_grad()\n",
    "    loss_value = L(f(x), y)\n",
    "    loss_value.backward()\n",
    "    optimizer.step()\n",
    "    losses.append(loss_value.item())"
   ]
  },
  {
   "cell_type": "code",
   "execution_count": 16,
   "metadata": {},
   "outputs": [
    {
     "data": {
      "text/plain": [
       "Text(0.5, 0, 'Epochs')"
      ]
     },
     "execution_count": 16,
     "metadata": {},
     "output_type": "execute_result"
    },
    {
     "data": {
      "image/png": "[encoded data removed]",
      "text/plain": [
       "<Figure size 800x600 with 1 Axes>"
      ]
     },
     "metadata": {},
     "output_type": "display_data"
    }
   ],
   "source": [
    "plt.plot(losses)\n",
    "plt.ylabel('Loss $L(y,\\hat{y};a)$')\n",
    "plt.xlabel('Epochs')"
   ]
  },
  {
   "cell_type": "code",
   "execution_count": 17,
   "metadata": {},
   "outputs": [
    {
     "data": {
      "text/plain": [
       "tensor([1., 5., 2., 5.])"
      ]
     },
     "execution_count": 17,
     "metadata": {},
     "output_type": "execute_result"
    }
   ],
   "source": [
    "y"
   ]
  },
  {
   "cell_type": "code",
   "execution_count": 18,
   "metadata": {},
   "outputs": [
    {
     "data": {
      "text/plain": [
       "tensor([2.7776, 2.4993, 1.9397, 5.2712], grad_fn=<SqueezeBackward0>)"
      ]
     },
     "execution_count": 18,
     "metadata": {},
     "output_type": "execute_result"
    }
   ],
   "source": [
    "f(x)"
   ]
  }
 ],
 "metadata": {
  "kernelspec": {
   "display_name": "sci",
   "language": "python",
   "name": "python3"
  },
  "language_info": {
   "codemirror_mode": {
    "name": "ipython",
    "version": 3
   },
   "file_extension": ".py",
   "mimetype": "text/x-python",
   "name": "python",
   "nbconvert_exporter": "python",
   "pygments_lexer": "ipython3",
   "version": "3.9.18"
  }
 },
 "nbformat": 4,
 "nbformat_minor": 2
}
