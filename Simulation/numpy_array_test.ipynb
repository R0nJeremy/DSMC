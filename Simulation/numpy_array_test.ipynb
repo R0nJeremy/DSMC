{
 "cells": [
  {
   "cell_type": "code",
   "execution_count": 105,
   "metadata": {},
   "outputs": [],
   "source": [
    "import numpy as np"
   ]
  },
  {
   "cell_type": "code",
   "execution_count": 106,
   "metadata": {},
   "outputs": [],
   "source": [
    "\n",
    "# Define the dimensions\n",
    "Nx = 4\n",
    "Ny = 3\n",
    "Nz = 5\n",
    "# Create a 3D NumPy array filled with Python lists\n",
    "data = np.empty((Nx, Ny, Nz), dtype=object)\n",
    "\n",
    "# Fill each cell with an empty Python list\n",
    "for i in range(Nx):\n",
    "    for j in range(Ny):\n",
    "        for k in range(Nz):\n",
    "            length = np.random.randint(1, 10)  # Random length for the NumPy array\n",
    "            data[i, j, k] = np.random.randint(1, 100, size=length)"
   ]
  },
  {
   "cell_type": "code",
   "execution_count": 107,
   "metadata": {},
   "outputs": [],
   "source": [
    "vertical_data = np.empty((Nz), dtype=object)"
   ]
  },
  {
   "cell_type": "code",
   "execution_count": 108,
   "metadata": {},
   "outputs": [],
   "source": [
    "for idz in range(Nz):\n",
    "    vertical_data[idz] = np.ndarray((0), dtype=int)\n",
    "    vertical_data[idz] = np.concatenate(np.concatenate(data[:,:,idz]))"
   ]
  },
  {
   "cell_type": "code",
   "execution_count": 110,
   "metadata": {},
   "outputs": [],
   "source": [
    "Lx, Ly, Lz = 10,12,15\n",
    "\n",
    "rx = np.random.default_rng().uniform(0, Lx, 100_000)\n",
    "ry = np.random.default_rng().uniform(0, Ly, 100_000)\n",
    "rz = np.random.default_rng().uniform(0, Lz, 100_000)"
   ]
  },
  {
   "cell_type": "code",
   "execution_count": 114,
   "metadata": {},
   "outputs": [],
   "source": [
    "hist, _ = np.histogram(rz, bins=30, range=(0, Lz))"
   ]
  },
  {
   "cell_type": "code",
   "execution_count": 116,
   "metadata": {},
   "outputs": [
    {
     "data": {
      "text/plain": [
       "30"
      ]
     },
     "execution_count": 116,
     "metadata": {},
     "output_type": "execute_result"
    }
   ],
   "source": [
    "hist.size"
   ]
  },
  {
   "cell_type": "code",
   "execution_count": null,
   "metadata": {},
   "outputs": [],
   "source": []
  }
 ],
 "metadata": {
  "kernelspec": {
   "display_name": "sci",
   "language": "python",
   "name": "python3"
  },
  "language_info": {
   "codemirror_mode": {
    "name": "ipython",
    "version": 3
   },
   "file_extension": ".py",
   "mimetype": "text/x-python",
   "name": "python",
   "nbconvert_exporter": "python",
   "pygments_lexer": "ipython3",
   "version": "3.12.1"
  }
 },
 "nbformat": 4,
 "nbformat_minor": 2
}
